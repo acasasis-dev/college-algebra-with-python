{
  "nbformat": 4,
  "nbformat_minor": 0,
  "metadata": {
    "colab": {
      "provenance": [],
      "authorship_tag": "ABX9TyOi3RMLFPTUxi+VtDp1euV5"
    },
    "kernelspec": {
      "name": "python3",
      "display_name": "Python 3"
    },
    "language_info": {
      "name": "python"
    }
  },
  "cells": [
    {
      "cell_type": "markdown",
      "source": [
        "Positive and negative exponents"
      ],
      "metadata": {
        "id": "-jJISeLWBmPO"
      }
    },
    {
      "cell_type": "code",
      "source": [
        "print(10**1)\n",
        "print(10**2)\n",
        "print(10**3)\n",
        "\n",
        "print(10**0)\n",
        "\n",
        "print(10**-1)\n",
        "print(10**-2)\n",
        "print(10**-3)\n"
      ],
      "metadata": {
        "id": "NkMTAVF0BlqE",
        "colab": {
          "base_uri": "https://localhost:8080/"
        },
        "outputId": "2d1f20ce-91fb-48ad-f210-ff6d5dddcade"
      },
      "execution_count": 1,
      "outputs": [
        {
          "output_type": "stream",
          "name": "stdout",
          "text": [
            "10\n",
            "100\n",
            "1000\n",
            "1\n",
            "0.1\n",
            "0.01\n",
            "0.001\n"
          ]
        }
      ]
    },
    {
      "cell_type": "markdown",
      "source": [
        "User input comes in as a string. You can find the length of the string"
      ],
      "metadata": {
        "id": "M6tAOp4pDAtB"
      }
    },
    {
      "cell_type": "code",
      "source": [
        "text = input(\"Enter a number\")\n",
        "print(text)\n",
        "\n",
        "print(len(text))\n",
        "\n",
        "# error - can't do math here\n",
        "# print(text+3)\n"
      ],
      "metadata": {
        "id": "pzYatQcjCWhp",
        "colab": {
          "base_uri": "https://localhost:8080/"
        },
        "outputId": "bbedaee7-144e-4368-c8e5-fc2c096745fb"
      },
      "execution_count": 2,
      "outputs": [
        {
          "output_type": "stream",
          "name": "stdout",
          "text": [
            "Enter a number.2\n",
            ".2\n",
            "2\n"
          ]
        }
      ]
    },
    {
      "cell_type": "markdown",
      "source": [
        "Cast input as a `float` or `int` variable"
      ],
      "metadata": {
        "id": "3x1_knXsDG29"
      }
    },
    {
      "cell_type": "code",
      "source": [
        "text = input(\"Enter a number\")\n",
        "num = float(text)\n",
        "print(num + 4)\n"
      ],
      "metadata": {
        "id": "8mtkOWLXDPZK",
        "colab": {
          "base_uri": "https://localhost:8080/"
        },
        "outputId": "33ee80d7-a8d9-4f97-c129-0b35b2456c71"
      },
      "execution_count": 3,
      "outputs": [
        {
          "output_type": "stream",
          "name": "stdout",
          "text": [
            "Enter a number.2\n",
            "4.2\n"
          ]
        }
      ]
    },
    {
      "cell_type": "markdown",
      "source": [
        "Now put it all together"
      ],
      "metadata": {
        "id": "MB7AkCnVEz7N"
      }
    },
    {
      "cell_type": "code",
      "execution_count": 4,
      "metadata": {
        "id": "pDaZckUyBKRl",
        "colab": {
          "base_uri": "https://localhost:8080/"
        },
        "outputId": "dc8ad0a5-6b2c-4181-ef75-cdc2584a171c"
      },
      "outputs": [
        {
          "output_type": "stream",
          "name": "stdout",
          "text": [
            "Enter a decimal number to convert: .2\n",
            "The decimal is  0.2\n",
            "The fraction is  2 / 10\n",
            "The percent is  20.0  %\n"
          ]
        }
      ],
      "source": [
        "\n",
        "# Get string input, which will include a decimal point\n",
        "digits = input(\"Enter a decimal number to convert: \")\n",
        "\n",
        "# Get number of decimal places as an integer\n",
        "exponent = int(len(digits))-1\n",
        "\n",
        "# Convert the input to a float number\n",
        "n = float(digits)\n",
        "\n",
        "# Use the exponent to get the numerator\n",
        "numerator = int(n * 10**exponent)\n",
        "\n",
        "# Use the expoent to get the denominator\n",
        "denominator = 10**exponent\n",
        "\n",
        "# percent is the first two decimal places\n",
        "percent = n * 100\n",
        "\n",
        "# Output\n",
        "print(\"The decimal is \", n)\n",
        "print(\"The fraction is \", numerator, \"/\", denominator)\n",
        "print(\"The percent is \", percent, \" %\")\n",
        "\n"
      ]
    }
  ]
}